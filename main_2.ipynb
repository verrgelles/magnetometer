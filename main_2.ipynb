{
 "cells": [
  {
   "cell_type": "code",
   "execution_count": 34,
   "id": "initial_id",
   "metadata": {
    "collapsed": true,
    "ExecuteTime": {
     "end_time": "2023-11-14T14:28:56.189097200Z",
     "start_time": "2023-11-14T14:28:55.459184800Z"
    }
   },
   "outputs": [],
   "source": [
    "from Thorlabs_PM101R import Device\n",
    "import time\n",
    "import numpy as np\n",
    "import pandas as pd\n",
    "import pint\n",
    "import pint_pandas\n",
    "import scipy.constants as sc\n",
    "import matplotlib.pyplot as plt\n",
    "pint_pandas.PintType.ureg.default_format = \"~P\"\n",
    "unit = pint.UnitRegistry()\n",
    "unit.setup_matplotlib()\n",
    "unit.mpl_formatter = \"{:~P}\"\n",
    "pint.set_application_registry(unit)\n",
    "from IPython.display import clear_output"
   ]
  },
  {
   "cell_type": "code",
   "execution_count": 36,
   "outputs": [],
   "source": [
    "def cm_to_inch(value):\n",
    "    return value / 2.54"
   ],
   "metadata": {
    "collapsed": false,
    "ExecuteTime": {
     "end_time": "2023-11-14T14:29:06.629647400Z",
     "start_time": "2023-11-14T14:29:06.629647400Z"
    }
   },
   "id": "c67083ff5914b174"
  },
  {
   "cell_type": "code",
   "execution_count": 37,
   "outputs": [],
   "source": [
    "device = Device()"
   ],
   "metadata": {
    "collapsed": false,
    "ExecuteTime": {
     "end_time": "2023-11-14T14:29:09.083801500Z",
     "start_time": "2023-11-14T14:29:06.997747200Z"
    }
   },
   "id": "d0337e85419c3a20"
  },
  {
   "cell_type": "code",
   "execution_count": 38,
   "outputs": [],
   "source": [
    "# Усреднение. 10 миллисекунд шаг. Накапливаем за миллисекунды "
   ],
   "metadata": {
    "collapsed": false,
    "ExecuteTime": {
     "end_time": "2023-11-14T14:29:11.558197200Z",
     "start_time": "2023-11-14T14:29:11.557133200Z"
    }
   },
   "id": "34ca30c8de850dbd"
  },
  {
   "cell_type": "code",
   "execution_count": 39,
   "outputs": [
    {
     "name": "stderr",
     "output_type": "stream",
     "text": [
      "\n",
      "KeyboardInterrupt\n",
      "\n"
     ]
    }
   ],
   "source": [
    "beginning = time.perf_counter()\n",
    "start_time = (time.perf_counter() - beginning)\n",
    "time_values = []\n",
    "data_values = []\n",
    "i = 0\n",
    "plt.figure(figsize=(cm_to_inch(25), cm_to_inch(15)))\n",
    "while 1:\n",
    "    clear_output(wait=True)\n",
    "    current_time = (np.around(time.perf_counter()-beginning, 3))\n",
    "    value = device.get_data()\n",
    "    time_values.append(current_time)\n",
    "    data_values.append(value)\n",
    "    df = pd.DataFrame({'Time (s)': time_values, 'Power (Watts)': data_values})\n",
    "    plt.plot(df['Time (s)'], df['Power (Watts)'])\n",
    "    plt.xlabel(r'$T, Sec$', loc=\"right\")\n",
    "    plt.ylabel(r'$P, Watts$', loc=\"top\")\n",
    "    plt.grid(which='major', color='k', linestyle='-')\n",
    "    plt.grid(which='minor', color='r', linestyle='-', alpha=0.2)\n",
    "    plt.minorticks_on()\n",
    "    plt.show()"
   ],
   "metadata": {
    "collapsed": false
   },
   "id": "91e8700f9d946329"
  },
  {
   "cell_type": "code",
   "execution_count": null,
   "outputs": [],
   "source": [],
   "metadata": {
    "collapsed": false
   },
   "id": "62f1d7e7b76de93a"
  }
 ],
 "metadata": {
  "kernelspec": {
   "display_name": "Python 3",
   "language": "python",
   "name": "python3"
  },
  "language_info": {
   "codemirror_mode": {
    "name": "ipython",
    "version": 2
   },
   "file_extension": ".py",
   "mimetype": "text/x-python",
   "name": "python",
   "nbconvert_exporter": "python",
   "pygments_lexer": "ipython2",
   "version": "2.7.6"
  }
 },
 "nbformat": 4,
 "nbformat_minor": 5
}
