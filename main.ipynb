{
 "cells": [
  {
   "cell_type": "code",
   "execution_count": null,
   "id": "initial_id",
   "metadata": {
    "collapsed": true
   },
   "outputs": [],
   "source": [
    "import numpy as np\n",
    "import pandas as pd\n",
    "import scipy.constants as sc\n",
    "import matplotlib.pyplot as plt\n",
    "from IPython.core.display_functions import clear_output\n",
    "from Thorlabs_PM101R import Device\n",
    "from utils import Timer"
   ]
  },
  {
   "cell_type": "code",
   "execution_count": null,
   "outputs": [],
   "source": [
    "device = Device()"
   ],
   "metadata": {
    "collapsed": false
   },
   "id": "d0337e85419c3a20"
  },
  {
   "cell_type": "raw",
   "source": [
    "Настройка устройства"
   ],
   "metadata": {
    "collapsed": false
   },
   "id": "fd54b8ee52f6563a"
  },
  {
   "cell_type": "code",
   "execution_count": null,
   "outputs": [],
   "source": [
    "device.set_wavelength('650') # in nm"
   ],
   "metadata": {
    "collapsed": false
   },
   "id": "18ab545b81d911bc"
  },
  {
   "cell_type": "raw",
   "source": [
    "Выбор параметров измерения"
   ],
   "metadata": {
    "collapsed": false
   },
   "id": "7649f542270cf3cc"
  },
  {
   "cell_type": "code",
   "execution_count": null,
   "outputs": [],
   "source": [
    "target_time = 60 #in seconds"
   ],
   "metadata": {
    "collapsed": false
   },
   "id": "572cd8a2b08d77af"
  },
  {
   "cell_type": "raw",
   "source": [
    "Получение графика в реальном времени"
   ],
   "metadata": {
    "collapsed": false
   },
   "id": "9713f67119794167"
  },
  {
   "cell_type": "code",
   "execution_count": null,
   "outputs": [],
   "source": [
    "timer = Timer()\n",
    "\n",
    "time_values = []\n",
    "data_values = []\n",
    "df: pd.DataFrame \n",
    "\n",
    "plt.figure(figsize=(10, 6))\n",
    "\n",
    "while 1:\n",
    "    if timer.get_current_time() >= target_time:\n",
    "        clear_output(wait=True)\n",
    "        break\n",
    "    else:\n",
    "     clear_output(wait=True)\n",
    "     \n",
    "     time_values.append(timer.get_current_time())\n",
    "     data_values.append(device.get_data())\n",
    "     df = pd.DataFrame({'Time (s)': time_values, 'Power (Watts)': data_values})\n",
    "     \n",
    "     plt.plot(df['Time (s)'], df['Power (Watts)'])\n",
    "     plt.xlabel(r'$T, Sec$', loc=\"right\")\n",
    "     plt.ylabel(r'$P, Watts$', loc=\"top\")\n",
    "     plt.grid(which='major', color='k', linestyle='-')\n",
    "     plt.grid(which='minor', color='r', linestyle='-', alpha=0.2)\n",
    "     plt.minorticks_on()\n",
    "     plt.show()"
   ],
   "metadata": {
    "collapsed": false
   },
   "id": "be8de64d806393c8"
  },
  {
   "cell_type": "raw",
   "source": [
    "Получение финального графика"
   ],
   "metadata": {
    "collapsed": false
   },
   "id": "47c51295b101eff3"
  },
  {
   "cell_type": "code",
   "execution_count": null,
   "outputs": [],
   "source": [
    "plt.plot(df['Time (s)'], df['Power (Watts)'])\n",
    "plt.xlabel(r'$T, Sec$', loc=\"right\")\n",
    "plt.ylabel(r'$P, Watts$', loc=\"top\")\n",
    "plt.grid(which='major', color='k', linestyle='-')\n",
    "plt.grid(which='minor', color='r', linestyle='-', alpha=0.2)\n",
    "plt.minorticks_on()\n",
    "plt.show()"
   ],
   "metadata": {
    "collapsed": false
   },
   "id": "3663c803b49a19dc"
  }
 ],
 "metadata": {
  "kernelspec": {
   "display_name": "Python 3",
   "language": "python",
   "name": "python3"
  },
  "language_info": {
   "codemirror_mode": {
    "name": "ipython",
    "version": 2
   },
   "file_extension": ".py",
   "mimetype": "text/x-python",
   "name": "python",
   "nbconvert_exporter": "python",
   "pygments_lexer": "ipython2",
   "version": "2.7.6"
  }
 },
 "nbformat": 4,
 "nbformat_minor": 5
}
